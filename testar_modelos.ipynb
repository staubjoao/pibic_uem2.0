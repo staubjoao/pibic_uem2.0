{
 "cells": [
  {
   "cell_type": "code",
   "execution_count": 8,
   "metadata": {},
   "outputs": [],
   "source": [
    "import cv2\n",
    "import numpy as np\n",
    "from skimage.feature import local_binary_pattern\n",
    "import keras\n",
    "import joblib\n",
    "from keras.models import model_from_json\n",
    "from sklearn.metrics import accuracy_score"
   ]
  },
  {
   "cell_type": "code",
   "execution_count": 9,
   "metadata": {},
   "outputs": [],
   "source": [
    "class LocalBinaryPatterns2:\n",
    "    def __init__(self, numPoints, radius):\n",
    "        self.numPoints = numPoints\n",
    "        self.radius = radius\n",
    "\n",
    "    def describe(self, image, eps=1e-7):\n",
    "        lbp = local_binary_pattern(\n",
    "            image, self.numPoints, self.radius, method=\"nri_uniform\")\n",
    "        n_bins = int(lbp.max() + 1)\n",
    "        (hist, _) = np.histogram(lbp.ravel(), bins=n_bins, range=(0, n_bins))\n",
    "\n",
    "        hist = hist.astype(\"float\")\n",
    "        hist /= (hist.sum() + eps)\n",
    "        return hist"
   ]
  },
  {
   "cell_type": "code",
   "execution_count": 10,
   "metadata": {},
   "outputs": [
    {
     "name": "stderr",
     "output_type": "stream",
     "text": [
      "[ WARN:0@1246.977] global /io/opencv/modules/imgcodecs/src/loadsave.cpp (239) findDecoder imread_('./spec_evaluation_janela_completo/class_beach/0/0.png'): can't open/read file: check file path/integrity\n"
     ]
    },
    {
     "ename": "error",
     "evalue": "OpenCV(4.6.0) /io/opencv/modules/imgproc/src/resize.cpp:4052: error: (-215:Assertion failed) !ssize.empty() in function 'resize'\n",
     "output_type": "error",
     "traceback": [
      "\u001b[0;31m---------------------------------------------------------------------------\u001b[0m",
      "\u001b[0;31merror\u001b[0m                                     Traceback (most recent call last)",
      "\u001b[1;32m/home/yonix42/Área de Trabalho/pibic_uem2.0/testar_modelos.ipynb Célula 3\u001b[0m in \u001b[0;36m<cell line: 17>\u001b[0;34m()\u001b[0m\n\u001b[1;32m     <a href='vscode-notebook-cell:/home/yonix42/%C3%81rea%20de%20Trabalho/pibic_uem2.0/testar_modelos.ipynb#W2sZmlsZQ%3D%3D?line=22'>23</a>\u001b[0m path_img \u001b[39m=\u001b[39m path_total \u001b[39m+\u001b[39m \u001b[39mstr\u001b[39m(l) \u001b[39m+\u001b[39m \u001b[39m'\u001b[39m\u001b[39m.png\u001b[39m\u001b[39m'\u001b[39m\n\u001b[1;32m     <a href='vscode-notebook-cell:/home/yonix42/%C3%81rea%20de%20Trabalho/pibic_uem2.0/testar_modelos.ipynb#W2sZmlsZQ%3D%3D?line=23'>24</a>\u001b[0m img_rgb \u001b[39m=\u001b[39m cv2\u001b[39m.\u001b[39mimread(path_img)\n\u001b[0;32m---> <a href='vscode-notebook-cell:/home/yonix42/%C3%81rea%20de%20Trabalho/pibic_uem2.0/testar_modelos.ipynb#W2sZmlsZQ%3D%3D?line=24'>25</a>\u001b[0m img_rgb \u001b[39m=\u001b[39m cv2\u001b[39m.\u001b[39;49mresize(img_rgb, (\u001b[39m256\u001b[39;49m, \u001b[39m256\u001b[39;49m))\n\u001b[1;32m     <a href='vscode-notebook-cell:/home/yonix42/%C3%81rea%20de%20Trabalho/pibic_uem2.0/testar_modelos.ipynb#W2sZmlsZQ%3D%3D?line=25'>26</a>\u001b[0m images\u001b[39m.\u001b[39mappend(img_rgb)\n\u001b[1;32m     <a href='vscode-notebook-cell:/home/yonix42/%C3%81rea%20de%20Trabalho/pibic_uem2.0/testar_modelos.ipynb#W2sZmlsZQ%3D%3D?line=27'>28</a>\u001b[0m img_gray \u001b[39m=\u001b[39m cv2\u001b[39m.\u001b[39mimread(path_img, \u001b[39m0\u001b[39m)\n",
      "\u001b[0;31merror\u001b[0m: OpenCV(4.6.0) /io/opencv/modules/imgproc/src/resize.cpp:4052: error: (-215:Assertion failed) !ssize.empty() in function 'resize'\n"
     ]
    }
   ],
   "source": [
    "desc = LocalBinaryPatterns2(8, 2)\n",
    "\n",
    "labels = []\n",
    "images = []\n",
    "X = []\n",
    "y = []\n",
    "\n",
    "path = './spec_evaluation_janela/'\n",
    "\n",
    "input_shape = (256, 256, 3)\n",
    "classes = [\"beach\", \"bus\", \"cafe_restaurant\", \"car\", \"city_center\", \"forest_path\", \"grocery_store\",\n",
    "           \"home\", \"library\", \"metro_station\", \"office\", \"park\", \"residential_area\", \"train\", \"tram\"]\n",
    "\n",
    "max_imagens = 390\n",
    "j = 0\n",
    "k = 0\n",
    "for i in range(max_imagens):\n",
    "    if j == 26:\n",
    "        j = 0\n",
    "        k += 1\n",
    "    path_total = path + 'class_' + classes[k] + '/' + str(i) + '/'\n",
    "    for l in range(1):\n",
    "        path_img = path_total + str(l) + '.png'\n",
    "        img_rgb = cv2.imread(path_img)\n",
    "        img_rgb = cv2.resize(img_rgb, (256, 256))\n",
    "        images.append(img_rgb)\n",
    "\n",
    "        img_gray = cv2.imread(path_img, 0)\n",
    "        hist = desc.describe(img_gray)\n",
    "        X.append(hist)\n",
    "\n",
    "        labels.append(k)\n",
    "    j += 1\n",
    "\n",
    "y = labels[:]"
   ]
  },
  {
   "cell_type": "code",
   "execution_count": 4,
   "metadata": {},
   "outputs": [
    {
     "name": "stderr",
     "output_type": "stream",
     "text": [
      "2023-07-29 12:52:24.212944: W tensorflow/stream_executor/platform/default/dso_loader.cc:64] Could not load dynamic library 'libcuda.so.1'; dlerror: libcuda.so.1: cannot open shared object file: No such file or directory; LD_LIBRARY_PATH: /home/yonix42/.local/lib/python3.10/site-packages/cv2/../../lib64:\n",
      "2023-07-29 12:52:24.213239: W tensorflow/stream_executor/cuda/cuda_driver.cc:263] failed call to cuInit: UNKNOWN ERROR (303)\n",
      "2023-07-29 12:52:24.213267: I tensorflow/stream_executor/cuda/cuda_diagnostics.cc:156] kernel driver does not appear to be running on this host (staub): /proc/driver/nvidia/version does not exist\n",
      "2023-07-29 12:52:24.214017: I tensorflow/core/platform/cpu_feature_guard.cc:193] This TensorFlow binary is optimized with oneAPI Deep Neural Network Library (oneDNN) to use the following CPU instructions in performance-critical operations:  AVX2 AVX512F AVX512_VNNI FMA\n",
      "To enable them in other operations, rebuild TensorFlow with the appropriate compiler flags.\n",
      "/usr/local/lib/python3.10/dist-packages/sklearn/base.py:329: UserWarning: Trying to unpickle estimator SVC from version 1.2.1 when using version 1.1.2. This might lead to breaking code or invalid results. Use at your own risk. For more info please refer to:\n",
      "https://scikit-learn.org/stable/model_persistence.html#security-maintainability-limitations\n",
      "  warnings.warn(\n"
     ]
    }
   ],
   "source": [
    "model_path = './saida2/'\n",
    "\n",
    "json_file = open(model_path+'model.json', 'r')\n",
    "loaded_model_json = json_file.read()\n",
    "json_file.close()\n",
    "\n",
    "loaded_model = model_from_json(loaded_model_json)\n",
    "\n",
    "loaded_model.load_weights(model_path+'model.h5')\n",
    "\n",
    "loaded_model.compile(optimizer='adam',\n",
    "                  loss='categorical_crossentropy',\n",
    "                  metrics=['accuracy'])\n",
    "\n",
    "svm_model = joblib.load(model_path+'modelo_svm.pkl')\n"
   ]
  },
  {
   "cell_type": "code",
   "execution_count": 5,
   "metadata": {},
   "outputs": [
    {
     "name": "stdout",
     "output_type": "stream",
     "text": [
      "74/74 [==============================] - 32s 425ms/step\n"
     ]
    }
   ],
   "source": [
    "images = np.array(images)\n",
    "predicoes_cnn = loaded_model.predict(images)\n",
    "predicoes_svm = svm_model.predict_proba(X)\n",
    "predicoes_real = y[:]"
   ]
  },
  {
   "cell_type": "code",
   "execution_count": 6,
   "metadata": {},
   "outputs": [],
   "source": [
    "def borda_count(svm_preds, cnn_preds):\n",
    "    bordas = np.abs(svm_preds - cnn_preds)\n",
    "\n",
    "    return np.argmax(bordas, axis=1)\n",
    "\n",
    "def soma_simples(svm_preds, cnn_preds):\n",
    "    preds_compinadas = svm_preds + cnn_preds\n",
    "\n",
    "    return np.argmax(preds_compinadas, axis=1)\n",
    "\n",
    "def produto(svm_preds, cnn_preds):\n",
    "    preds_compinadas = svm_preds * cnn_preds\n",
    "\n",
    "    return np.argmax(preds_compinadas, axis=1)\n",
    "\n",
    "\n",
    "def media_simples(svm_preds, cnn_preds):\n",
    "    preds_combinadas = (svm_preds + cnn_preds) / 2.0\n",
    "\n",
    "    return np.argmax(preds_combinadas, axis=1)\n",
    "\n",
    "def media_ponderada(svm_preds, cnn_preds, peso_svm, peso_cnn):\n",
    "    preds_combinadas = (peso_svm * svm_preds + peso_cnn *\n",
    "                        cnn_preds) / (peso_svm + peso_cnn)\n",
    "\n",
    "    return  np.argmax(preds_combinadas, axis=1)\n",
    "\n",
    "def maiores_valores(svm_preds, cnn_preds):\n",
    "    fusion_preds = np.maximum(svm_preds, cnn_preds)\n",
    "\n",
    "    return  np.argmax(fusion_preds, axis=1)\n",
    "\n",
    "def maioria_ponderada(svm_preds, cnn_preds, peso_svm, peso_cnn):\n",
    "    fusion_preds = peso_svm * svm_preds + peso_cnn * cnn_preds\n",
    "\n",
    "    classes_preditas = np.argmax(fusion_preds, axis=1)\n",
    "\n",
    "    return classes_preditas\n",
    "\n",
    "def fusao_com_rejeicao(svm_preds, cnn_preds, limiar_rejeicao=0.4):\n",
    "    votos_totais = svm_preds + cnn_preds\n",
    "    previsoes_finais = np.argmax(votos_totais, axis=1)\n",
    "    confianca = np.max(votos_totais, axis=1)\n",
    "    previsoes_finais[confianca < limiar_rejeicao] = -1  \n",
    "    return previsoes_finais\n"
   ]
  },
  {
   "cell_type": "code",
   "execution_count": 7,
   "metadata": {},
   "outputs": [
    {
     "name": "stdout",
     "output_type": "stream",
     "text": [
      "acc_borda_count: 0.39829059829059826\n",
      "acc_soma_simples: 0.42905982905982903\n",
      "acc_produto: 0.55\n",
      "acc_media_simples: 0.42905982905982903\n",
      "acc_media_ponderada: 0.6504273504273504\n",
      "acc_maiores_valores: 0.4247863247863248\n",
      "acc_maioria_ponderada: 0.6423076923076924\n",
      "acc_fusao_com_rejeicao: 0.42136752136752137\n",
      "O melhor método é o Média Ponderada com acuracia de 0.6504273504273504\n"
     ]
    }
   ],
   "source": [
    "nomes_metodos = ['Votação por Borda', 'Soma Simples', 'Produto', 'Média Simples',\n",
    "                 'Média Ponderada', 'Maiores Valores', 'Maioria Ponderada', \n",
    "                 'Fusao com rejeicao']\n",
    "\n",
    "lista_acuracia = np.array([])\n",
    "\n",
    "preds_teste = borda_count(predicoes_svm, predicoes_cnn)\n",
    "acc_aux = accuracy_score(predicoes_real, preds_teste)\n",
    "print(\"acc_borda_count:\", acc_aux)\n",
    "lista_acuracia = np.append(lista_acuracia, acc_aux)\n",
    "\n",
    "preds_teste = soma_simples(predicoes_svm, predicoes_cnn)\n",
    "acc_aux = accuracy_score(predicoes_real, preds_teste)\n",
    "print(\"acc_soma_simples:\", acc_aux)\n",
    "lista_acuracia = np.append(lista_acuracia, acc_aux)\n",
    "\n",
    "preds_teste = produto(predicoes_svm, predicoes_cnn)\n",
    "acc_aux = accuracy_score(predicoes_real, preds_teste)\n",
    "print(\"acc_produto:\", acc_aux)\n",
    "lista_acuracia = np.append(lista_acuracia, acc_aux)\n",
    "\n",
    "preds_teste = media_simples(predicoes_svm, predicoes_cnn)\n",
    "acc_aux = accuracy_score(predicoes_real, preds_teste)\n",
    "print(\"acc_media_simples:\", acc_aux)\n",
    "lista_acuracia = np.append(lista_acuracia, acc_aux)\n",
    "\n",
    "preds_teste = media_ponderada(predicoes_svm, predicoes_cnn, 2, 8)\n",
    "acc_aux = accuracy_score(predicoes_real, preds_teste)\n",
    "print(\"acc_media_ponderada:\", acc_aux)\n",
    "lista_acuracia = np.append(lista_acuracia, acc_aux)\n",
    "\n",
    "preds_teste = maiores_valores(predicoes_svm, predicoes_cnn)\n",
    "acc_aux = accuracy_score(predicoes_real, preds_teste)\n",
    "print(\"acc_maiores_valores:\", acc_aux)\n",
    "lista_acuracia = np.append(lista_acuracia, acc_aux)\n",
    "\n",
    "preds_teste = maioria_ponderada(predicoes_svm, predicoes_cnn, 1, 2)\n",
    "acc_aux = accuracy_score(predicoes_real, preds_teste)\n",
    "print(\"acc_maioria_ponderada:\", acc_aux)\n",
    "lista_acuracia = np.append(lista_acuracia, acc_aux)\n",
    "\n",
    "preds_teste = fusao_com_rejeicao(predicoes_svm, predicoes_cnn, limiar_rejeicao=0.8)\n",
    "acc_aux = accuracy_score(predicoes_real, preds_teste)\n",
    "print(\"acc_fusao_com_rejeicao:\", acc_aux)\n",
    "lista_acuracia = np.append(lista_acuracia, acc_aux)\n",
    "\n",
    "melhor_metodo = np.argmax(lista_acuracia)\n",
    "melhor_acuracia = lista_acuracia[melhor_metodo]\n",
    "nome_melhor_metodo = nomes_metodos[melhor_metodo]\n",
    "\n",
    "print(f'O melhor método é o {nome_melhor_metodo} com acuracia de {melhor_acuracia}')"
   ]
  }
 ],
 "metadata": {
  "kernelspec": {
   "display_name": "Python 3",
   "language": "python",
   "name": "python3"
  },
  "language_info": {
   "codemirror_mode": {
    "name": "ipython",
    "version": 3
   },
   "file_extension": ".py",
   "mimetype": "text/x-python",
   "name": "python",
   "nbconvert_exporter": "python",
   "pygments_lexer": "ipython3",
   "version": "3.10.6"
  },
  "orig_nbformat": 4
 },
 "nbformat": 4,
 "nbformat_minor": 2
}
