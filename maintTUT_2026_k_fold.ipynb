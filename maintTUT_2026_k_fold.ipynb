{
 "cells": [
  {
   "cell_type": "code",
   "execution_count": 10,
   "metadata": {},
   "outputs": [],
   "source": [
    "from sklearn.model_selection import KFold\n",
    "from sklearn.svm import SVC\n",
    "from sklearn.metrics import accuracy_score, confusion_matrix, classification_report"
   ]
  },
  {
   "cell_type": "code",
   "execution_count": 4,
   "metadata": {},
   "outputs": [],
   "source": [
    "X = []\n",
    "y = []\n",
    "\n",
    "arq = open(\"./features_LBP_janela.txt\", \"r\")\n",
    "for linha in arq:\n",
    "    aux = linha.split(\"|\")\n",
    "    lbp_local = []\n",
    "    for i in range(len(aux)-1):\n",
    "        classe_local = []\n",
    "        aux2 = aux[i].split(\";\")\n",
    "        for j in aux2:\n",
    "            classe_local.append(float(j))\n",
    "        lbp_local.append(classe_local)\n",
    "    X.append(lbp_local)\n",
    "    y.append(aux[len(aux)-1].replace(\"\\n\", \"\"))\n",
    "arq.close()"
   ]
  },
  {
   "cell_type": "code",
   "execution_count": 17,
   "metadata": {},
   "outputs": [
    {
     "name": "stdout",
     "output_type": "stream",
     "text": [
      "------------------------------------------------------------------------\n",
      "Treinamento para o fold 1 ...\n",
      "0.6452991452991453 para o fold 1\n",
      "------------------------------------------------------------------------\n",
      "Treinamento para o fold 2 ...\n",
      "0.6680911680911681 para o fold 2\n",
      "------------------------------------------------------------------------\n",
      "Treinamento para o fold 3 ...\n",
      "0.6324786324786325 para o fold 3\n",
      "------------------------------------------------------------------------\n",
      "Treinamento para o fold 4 ...\n",
      "0.6217948717948718 para o fold 4\n",
      "------------------------------------------------------------------------\n",
      "Treinamento para o fold 5 ...\n",
      "0.6004273504273504 para o fold 5\n"
     ]
    }
   ],
   "source": [
    "y_preds = []\n",
    "svm_preds = []\n",
    "best_model_svm, best_acc_svm = None, 0.0\n",
    "\n",
    "k_fold = 5\n",
    "# Split dos folds\n",
    "kfold = KFold(n_splits=k_fold, shuffle=True)\n",
    "\n",
    "# For para treinamento entre os folds\n",
    "fold_no = 1\n",
    "for train, test in kfold.split(X, y):\n",
    "    print('------------------------------------------------------------------------')\n",
    "    print(f'Treinamento para o fold {fold_no} ...')\n",
    "\n",
    "    # Vetores para teste e treinamento\n",
    "    x_train_svm = []\n",
    "    y_train_svm = []\n",
    "\n",
    "    x_test_svm = []\n",
    "    y_test_svm = []\n",
    "\n",
    "    # Fazendo o split dos dados para treinamento\n",
    "    for i in train:\n",
    "        for j in range(6):\n",
    "            x_train_svm.append(X[i][j])\n",
    "            y_train_svm.append(y[i])\n",
    "\n",
    "    # Fazendo o split dos dados para teste\n",
    "    for i in test:\n",
    "        for j in range(6):\n",
    "            x_test_svm.append(X[i][j])\n",
    "            y_test_svm.append(y[i])\n",
    "\n",
    "\n",
    "    y_pred = y_test_svm[:]\n",
    "    for res in y_pred:\n",
    "        y_preds.append(res)\n",
    "\n",
    "    # SVM\n",
    "    svm_model = SVC(C=100, kernel='poly', gamma='scale', probability=True)\n",
    "    svm_model.fit(x_train_svm, y_train_svm)\n",
    "    svm_predictions = svm_model.predict_proba(x_test_svm)\n",
    "\n",
    "    svm_predictions = svm_model.predict(x_test_svm)\n",
    "    acc_svm = accuracy_score(y_test_svm, svm_predictions)\n",
    "\n",
    "    for i in svm_predictions:\n",
    "        svm_preds.append(i)\n",
    "\n",
    "    print(f'{acc_svm} para o fold {fold_no}')\n",
    "\n",
    "    if acc_svm > best_acc_svm:\n",
    "        best_acc_svm = acc_svm\n",
    "        best_model_svm = svm_model\n",
    "\n",
    "    fold_no += 1\n"
   ]
  },
  {
   "cell_type": "code",
   "execution_count": 18,
   "metadata": {},
   "outputs": [],
   "source": [
    "matriz_confusao = confusion_matrix(y_preds, svm_preds)\n",
    "relatorio_classificacao = classification_report(y_preds, svm_preds)"
   ]
  },
  {
   "cell_type": "code",
   "execution_count": 19,
   "metadata": {},
   "outputs": [
    {
     "name": "stdout",
     "output_type": "stream",
     "text": [
      "              precision    recall  f1-score   support\n",
      "\n",
      "           0       0.64      0.58      0.61       468\n",
      "           1       0.80      0.80      0.80       468\n",
      "          10       0.62      0.73      0.67       468\n",
      "          11       0.41      0.58      0.48       468\n",
      "          12       0.40      0.27      0.32       468\n",
      "          13       0.69      0.67      0.68       468\n",
      "          14       0.72      0.68      0.70       468\n",
      "           2       0.64      0.62      0.63       468\n",
      "           3       0.84      0.88      0.86       468\n",
      "           4       0.54      0.40      0.46       468\n",
      "           5       0.63      0.75      0.68       468\n",
      "           6       0.52      0.65      0.58       468\n",
      "           7       0.74      0.57      0.64       468\n",
      "           8       0.66      0.71      0.68       468\n",
      "           9       0.69      0.63      0.66       468\n",
      "\n",
      "    accuracy                           0.63      7020\n",
      "   macro avg       0.64      0.63      0.63      7020\n",
      "weighted avg       0.64      0.63      0.63      7020\n",
      "\n"
     ]
    }
   ],
   "source": [
    "print(relatorio_classificacao)"
   ]
  }
 ],
 "metadata": {
  "kernelspec": {
   "display_name": "Python 3",
   "language": "python",
   "name": "python3"
  },
  "language_info": {
   "codemirror_mode": {
    "name": "ipython",
    "version": 3
   },
   "file_extension": ".py",
   "mimetype": "text/x-python",
   "name": "python",
   "nbconvert_exporter": "python",
   "pygments_lexer": "ipython3",
   "version": "3.10.6"
  },
  "orig_nbformat": 4
 },
 "nbformat": 4,
 "nbformat_minor": 2
}
